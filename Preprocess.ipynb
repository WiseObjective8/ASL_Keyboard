{
 "cells": [
  {
   "cell_type": "code",
   "execution_count": null,
   "metadata": {},
   "outputs": [],
   "source": [
    "import tensorflow as tf\n",
    "import sklearn as sk \n",
    "import matplotlib.pyplot as plt\n",
    "import cv2 as cv \n",
    "import keras \n",
    "import os \n",
    "import pandas as pd\n",
    "from PIL import Image\n",
    "import itertools \n",
    "from sklearn.datasets import *\n",
    "from sklearn.metrics import confusion_matrix\n",
    "from keras.utils import plot_model \n",
    "import random \n",
    "from keras.layers import *"
   ]
  },
  {
   "cell_type": "code",
   "execution_count": null,
   "metadata": {},
   "outputs": [
    {
     "data": {
      "text/plain": [
       "'d:\\\\Learning\\\\Custom'"
      ]
     },
     "metadata": {},
     "output_type": "display_data"
    }
   ],
   "source": [
    "%pwd"
   ]
  },
  {
   "cell_type": "code",
   "execution_count": null,
   "metadata": {},
   "outputs": [],
   "source": [
    "train = \"./data/imgs/ASL_Alphabet/train/\"\n",
    "test = \"./data/imgs/ASL_Alphabet/test/\" \n",
    "valid = \"./data/imgs/ASL_Alphabet/valid/\""
   ]
  },
  {
   "cell_type": "code",
   "execution_count": null,
   "metadata": {},
   "outputs": [],
   "source": [
    "classes = [\"del\", \"nothing\", \"space\"] + [chr(_) for _ in range(ord('A'), ord('Z')+1)]\n",
    "classes.sort() \n",
    "classes "
   ]
  },
  {
   "cell_type": "code",
   "execution_count": null,
   "metadata": {},
   "outputs": [],
   "source": [
    "%mkdir \"./data/imgs/compress\"\n",
    "%mkdir \"./data/imgs/compress/train/\"\n",
    "%mkdir \"./data/imgs/compress/test/\" \n",
    "%mkdir \"./data/imgs/compress/valid/\" "
   ]
  },
  {
   "cell_type": "code",
   "execution_count": null,
   "metadata": {},
   "outputs": [],
   "source": [
    "base_dir = './data/imgs/compress/' \n",
    "for folder in os.listdir(base_dir): \n",
    "    path_ = os.path.join(base_dir, folder)\n",
    "    if \"test\" not in folder: \n",
    "        for char in range(ord('A'), ord('Z')+1):\n",
    "            folder_name = chr(char) \n",
    "            folder_path = os.path.join(path_, folder_name)\n",
    "            os.makedirs(folder_path, exist_ok=True) \n",
    " \n",
    "        os.makedirs(path_+\"/del\", exist_ok=True)\n",
    "        os.makedirs(path_+\"/space\", exist_ok=True) \n",
    "        os.makedirs(path_+\"/nothing\", exist_ok=True) "
   ]
  },
  {
   "cell_type": "code",
   "execution_count": null,
   "metadata": {},
   "outputs": [],
   "source": [
    "def preprocess(input_dir: str, target_size: tuple[int], type: str):\n",
    "    if \"test\" not in type: \n",
    "        for i in os.listdir(input_dir):\n",
    "            i_path = os.path.join(input_dir, i)\n",
    "            for img in os.listdir(i_path): \n",
    "                img_path = os.path.join(i_path, img)\n",
    "                imag = cv.imread(img_path)\n",
    "                imag = cv.cvtColor(imag,cv.COLOR_BGR2GRAY)\n",
    "                imag = cv.resize(imag,target_size)\n",
    "                cv.imwrite(os.path.join(f\"./data/imgs/compress/{type}/{i}\", img),imag)\n",
    "                # with Image.open(img_path) as imag: \n",
    "                #     grayscale = imag.convert(\"L\") \n",
    "                #     resized = grayscale.resize(target_size)\n",
    "                #     resized.save(os.path.join( \n",
    "                #         f\"./data/imgs/compress/{type}/{i}\", img))\n",
    "    else: \n",
    "        for img in os.listdir(input_dir):\n",
    "            img_path = os.path.join(input_dir, img)\n",
    "            imag = cv.imread(img_path)\n",
    "            imag = cv.cvtColor(imag,cv.COLOR_BGR2GRAY)\n",
    "            imag = cv.resize(imag,target_size)\n",
    "            cv.imwrite(os.path.join(f\"./data/imgs/compress/{type}\", img),imag)"
   ]
  },
  {
   "cell_type": "code",
   "execution_count": null,
   "metadata": {},
   "outputs": [],
   "source": [
    "preprocess(train,(64,64),\"train\")\n",
    "preprocess(test,(64,64),\"test\") \n",
    "preprocess(valid,(64,64),\"valid\")\n",
    " "
   ]
  },
  {
   "cell_type": "code",
   "execution_count": null,
   "metadata": {},
   "outputs": [
    {
     "name": "stderr",
     "output_type": "stream",
     "text": [
      "A subdirectory or file ./data/annotations/compress_gray/ already exists.\n"
     ]
    }
   ],
   "source": [
    "%mkdir \"./data/annotations/compress_gray/\""
   ]
  },
  {
   "cell_type": "code",
   "execution_count": null,
   "metadata": {},
   "outputs": [],
   "source": [
    "train = \"./data/imgs/compress/train/\"\n",
    "test = \"./data/imgs/compress/test/\" \n",
    "valid = \"./data/imgs/compress/valid/\""
   ]
  },
  {
   "cell_type": "code",
   "execution_count": null,
   "metadata": {},
   "outputs": [],
   "source": [
    "def annotate(data_dir:str, type:str):\n",
    "    annotations = [] \n",
    "    if \"test\" not in  type:\n",
    "        for alphabet_folder in os.listdir(data_dir):\n",
    "            alphabet_path = os.path.join(data_dir, alphabet_folder)\n",
    "            for image_file in os.listdir(alphabet_path): \n",
    "                image_path = os.path.join(alphabet_path,  image_file)\n",
    "                label = alphabet_folder \n",
    "                with Image.open(image_path) as img:\n",
    "                    width, height = img.size \n",
    "                annotations.append({ \n",
    "                    \"image_path\": image_path,\n",
    "                    \"label\": label, \n",
    "                    \"x_min\": 0,   \n",
    "                    \"y_min\": 0,   \n",
    "                    \"x_max\": width,   \n",
    "                    \"y_max\": height   \n",
    "                }) \n",
    "    else: \n",
    "        for image_file in os.listdir(data_dir):\n",
    "                image_path = os.path.join(data_dir, image_file)\n",
    "                label = image_file.split(\"_\")[0] \n",
    "                with Image.open(image_path) as img :\n",
    "                    width, height = img.size \n",
    "                annotations.append({ \n",
    "                    \"image_path\": image_path,\n",
    "                    \"label\": label, \n",
    "                    \"x_min\": 0,   \n",
    "                    \"y_min\": 0,   \n",
    "                    \"x_max\": width,   \n",
    "                    \"y_max\": height   \n",
    "                }) \n",
    "    annotations_df  = pd.DataFrame(annotations)\n",
    "    annotations_df.to_csv(f\"./data/annotations/{type}.csv\", index=False)\n",
    " "
   ]
  },
  {
   "cell_type": "code",
   "execution_count": null,
   "metadata": {},
   "outputs": [],
   "source": [
    "annotate(train,'compress_gray/train')\n",
    "annotate(test,'compress_gray/test') \n",
    "annotate(valid,'compress_gray/valid') "
   ]
  }
 ],
 "metadata": {
  "kernelspec": {
   "display_name": "venv",
   "language": "python",
   "name": "python3"
  },
  "language_info": {
   "name": "python",
   "version": "3.9.12"
  }
 },
 "nbformat": 4,
 "nbformat_minor": 2
}
