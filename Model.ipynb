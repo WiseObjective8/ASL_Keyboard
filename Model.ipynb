{
 "cells": [
  {
   "cell_type": "code",
   "execution_count": 1,
   "metadata": {},
   "outputs": [],
   "source": [
    "%load_ext tensorboard\n",
    "import tensorflow as tf\n",
    "import sklearn as sk \n",
    "import matplotlib.pyplot as plt\n",
    "import cv2 as cv \n",
    "import keras \n",
    "import os \n",
    "import pandas as pd\n",
    "from PIL import Image\n",
    "import itertools \n",
    "from sklearn.datasets import *\n",
    "from sklearn.metrics import confusion_matrix\n",
    "from keras.utils import plot_model \n",
    "import random \n",
    "from keras.layers import *\n",
    "import numpy as np\n",
    "from datasets import Dataset\n",
    "import datetime"
   ]
  },
  {
   "cell_type": "code",
   "execution_count": 2,
   "metadata": {},
   "outputs": [],
   "source": [
    "tensor = {\n",
    "    \"train\": ...,\n",
    "    \"test\": ..., \n",
    "    \"valid\": ..., \n",
    "} \n",
    "path = {\n",
    "    \"train\":\".\\\\data\\\\imgs\\\\compress\\\\train\",\n",
    "    \"test\":\".\\\\data\\\\imgs\\\\compress\\\\test\", \n",
    "    \"valid\":\".\\\\data\\\\imgs\\\\compress\\\\valid\" \n",
    "} \n",
    "classes = []\n",
    " "
   ]
  },
  {
   "cell_type": "code",
   "execution_count": 3,
   "metadata": {},
   "outputs": [],
   "source": [
    "image_height = 64\n",
    "image_width = 64\n",
    "batch_size = 32"
   ]
  },
  {
   "cell_type": "code",
   "execution_count": 4,
   "metadata": {},
   "outputs": [],
   "source": [
    "\n",
    "def create_dataset(directory):\n",
    "    return keras.preprocessing.image_dataset_from_directory(\n",
    "        directory,\n",
    "        image_size=(image_height, image_width),\n",
    "        batch_size=batch_size,\n",
    "        color_mode='grayscale',\n",
    "        label_mode='categorical' if directory != path[\"test\"] else None,\n",
    "        shuffle=True if directory == path[\"train\"] else False,\n",
    "        seed=42,\n",
    "    )\n"
   ]
  },
  {
   "cell_type": "code",
   "execution_count": 5,
   "metadata": {},
   "outputs": [],
   "source": [
    "\n",
    "# Create DataFrame for test images\n",
    "test_filenames = os.listdir(path[\"test\"])\n",
    "test_df = pd.DataFrame({\n",
    "    'filename': test_filenames\n",
    "})\n",
    "\n"
   ]
  },
  {
   "cell_type": "code",
   "execution_count": 6,
   "metadata": {},
   "outputs": [
    {
     "name": "stdout",
     "output_type": "stream",
     "text": [
      "Found 87000 files belonging to 29 classes.\n",
      "Found 870 files belonging to 29 classes.\n"
     ]
    }
   ],
   "source": [
    "\n",
    "# Create datasets for train, valid, and test sets\n",
    "train_dataset = create_dataset(path[\"train\"])\n",
    "valid_dataset = create_dataset(path[\"valid\"])\n",
    "train_dataset = train_dataset.prefetch(buffer_size=tf.data.AUTOTUNE)\n",
    "valid_dataset = valid_dataset.prefetch(buffer_size=tf.data.AUTOTUNE)\n",
    "test_dataset = Dataset.from_pandas(test_df)"
   ]
  },
  {
   "cell_type": "code",
   "execution_count": 7,
   "metadata": {},
   "outputs": [],
   "source": [
    "tensor[\"train\"] = train_dataset\n",
    "tensor[\"valid\"] = valid_dataset\n",
    "tensor[\"test\"] = test_dataset"
   ]
  },
  {
   "cell_type": "code",
   "execution_count": 8,
   "metadata": {},
   "outputs": [],
   "source": [
    "def _prefetch_to_tensor(dataset):\n",
    "    dataset = dataset.take(1)\n",
    "    np_arr = next(iter(dataset))\n",
    "    t = tf.convert_to_tensor(np_arr)\n",
    "    return t"
   ]
  },
  {
   "cell_type": "code",
   "execution_count": 9,
   "metadata": {},
   "outputs": [],
   "source": [
    "train = list(tensor[\"train\"])\n",
    "valid = list(tensor[\"valid\"])"
   ]
  },
  {
   "cell_type": "code",
   "execution_count": 10,
   "metadata": {},
   "outputs": [],
   "source": [
    "def convert(data: list[tuple[tf.Tensor,tf.Tensor]]):\n",
    "    nparr = []\n",
    "    nplabel = []\n",
    "    for i in data:\n",
    "        for x in i[0]:\n",
    "            nparr.append(tf.squeeze(x).numpy())\n",
    "        for y in i[1]:\n",
    "            nplabel.append(y.numpy())\n",
    "    arr = np.array(nparr)\n",
    "    labels = np.array(nplabel)\n",
    "    return arr, labels"
   ]
  },
  {
   "cell_type": "code",
   "execution_count": 11,
   "metadata": {},
   "outputs": [],
   "source": [
    "train_data,train_labels = convert(train)\n",
    "valid_data,valid_labels = convert(valid)"
   ]
  },
  {
   "cell_type": "code",
   "execution_count": 12,
   "metadata": {},
   "outputs": [
    {
     "data": {
      "text/plain": [
       "((87000, 64, 64), (87000, 29), (870, 64, 64), (870, 29))"
      ]
     },
     "execution_count": 12,
     "metadata": {},
     "output_type": "execute_result"
    }
   ],
   "source": [
    "train_data.shape,train_labels.shape, valid_data.shape,valid_labels.shape"
   ]
  },
  {
   "cell_type": "code",
   "execution_count": 13,
   "metadata": {},
   "outputs": [
    {
     "data": {
      "text/plain": [
       "(array([[[0.10196079, 0.11372549, 0.10588235, ..., 0.12156863,\n",
       "          0.1254902 , 0.12941177],\n",
       "         [0.11372549, 0.3019608 , 0.32156864, ..., 0.2901961 ,\n",
       "          0.5058824 , 0.54901963],\n",
       "         [0.10980392, 0.20784314, 0.2       , ..., 0.5686275 ,\n",
       "          0.5254902 , 0.5294118 ],\n",
       "         ...,\n",
       "         [0.14901961, 0.65882355, 0.6509804 , ..., 0.48235294,\n",
       "          0.48235294, 0.49019608],\n",
       "         [0.13725491, 0.6431373 , 0.6392157 , ..., 0.47058824,\n",
       "          0.48235294, 0.4862745 ],\n",
       "         [0.13333334, 0.64705884, 0.6392157 , ..., 0.45490196,\n",
       "          0.4745098 , 0.48235294]],\n",
       " \n",
       "        [[0.09803922, 0.10196079, 0.11764706, ..., 0.10196079,\n",
       "          0.11764706, 0.12941177],\n",
       "         [0.10980392, 0.3254902 , 0.3254902 , ..., 0.31764707,\n",
       "          0.54901963, 0.5764706 ],\n",
       "         [0.11372549, 0.21568628, 0.2       , ..., 0.5568628 ,\n",
       "          0.5568628 , 0.54901963],\n",
       "         ...,\n",
       "         [0.14509805, 0.68235296, 0.6784314 , ..., 0.5058824 ,\n",
       "          0.50980395, 0.50980395],\n",
       "         [0.13725491, 0.6784314 , 0.6784314 , ..., 0.49803922,\n",
       "          0.5019608 , 0.5019608 ],\n",
       "         [0.15294118, 0.6901961 , 0.68235296, ..., 0.47843137,\n",
       "          0.49411765, 0.5019608 ]],\n",
       " \n",
       "        [[0.08627451, 0.11372549, 0.10588235, ..., 0.10980392,\n",
       "          0.12941177, 0.1254902 ],\n",
       "         [0.12156863, 0.30588236, 0.3372549 , ..., 0.31764707,\n",
       "          0.56078434, 0.5568628 ],\n",
       "         [0.10588235, 0.2509804 , 0.25490198, ..., 0.5529412 ,\n",
       "          0.5568628 , 0.5372549 ],\n",
       "         ...,\n",
       "         [0.14117648, 0.7019608 , 0.68235296, ..., 0.5019608 ,\n",
       "          0.50980395, 0.5019608 ],\n",
       "         [0.14117648, 0.7058824 , 0.6862745 , ..., 0.49803922,\n",
       "          0.49019608, 0.5058824 ],\n",
       "         [0.13725491, 0.7019608 , 0.68235296, ..., 0.4862745 ,\n",
       "          0.4627451 , 0.49803922]],\n",
       " \n",
       "        [[0.10196079, 0.10588235, 0.10588235, ..., 0.11764706,\n",
       "          0.12156863, 0.12941177],\n",
       "         [0.10588235, 0.3019608 , 0.3254902 , ..., 0.37254903,\n",
       "          0.5372549 , 0.5254902 ],\n",
       "         [0.11372549, 0.25882354, 0.23137255, ..., 0.5529412 ,\n",
       "          0.5568628 , 0.5411765 ],\n",
       "         ...,\n",
       "         [0.14901961, 0.7019608 , 0.6862745 , ..., 0.67058825,\n",
       "          0.6666667 , 0.67058825],\n",
       "         [0.13725491, 0.7019608 , 0.69411767, ..., 0.67058825,\n",
       "          0.65882355, 0.65882355],\n",
       "         [0.14509805, 0.7176471 , 0.7058824 , ..., 0.6666667 ,\n",
       "          0.6509804 , 0.6392157 ]],\n",
       " \n",
       "        [[0.10980392, 0.10588235, 0.10196079, ..., 0.09803922,\n",
       "          0.12156863, 0.1254902 ],\n",
       "         [0.10196079, 0.05882353, 0.04705882, ..., 0.25490198,\n",
       "          0.23921569, 0.23529412],\n",
       "         [0.12156863, 0.08235294, 0.07450981, ..., 0.24705882,\n",
       "          0.23921569, 0.2509804 ],\n",
       "         ...,\n",
       "         [0.12941177, 0.5803922 , 0.5803922 , ..., 0.9137255 ,\n",
       "          0.92156863, 0.90588236],\n",
       "         [0.12941177, 0.5764706 , 0.5882353 , ..., 0.9137255 ,\n",
       "          0.92941177, 0.9098039 ],\n",
       "         [0.14509805, 0.58431375, 0.6       , ..., 0.89411765,\n",
       "          0.9098039 , 0.8784314 ]]], dtype=float32),\n",
       " array([[[0.4392157 , 0.38431373, 0.36078432, ..., 1.        ,\n",
       "          1.        , 1.        ],\n",
       "         [0.49019608, 0.40392157, 0.35686275, ..., 1.        ,\n",
       "          1.        , 1.        ],\n",
       "         [0.49803922, 0.43137255, 0.3764706 , ..., 1.        ,\n",
       "          1.        , 1.        ],\n",
       "         ...,\n",
       "         [0.98039216, 0.8901961 , 0.7019608 , ..., 0.48235294,\n",
       "          0.4862745 , 0.47843137],\n",
       "         [0.59607846, 0.75686276, 0.6901961 , ..., 0.45882353,\n",
       "          0.4627451 , 0.45882353],\n",
       "         [0.6627451 , 0.75686276, 0.65882355, ..., 0.42745098,\n",
       "          0.43529412, 0.43137255]],\n",
       " \n",
       "        [[0.52156866, 0.9411765 , 0.4627451 , ..., 0.53333336,\n",
       "          0.5019608 , 0.47058824],\n",
       "         [0.67058825, 0.54509807, 0.80784315, ..., 0.5137255 ,\n",
       "          0.49411765, 0.53333336],\n",
       "         [0.81960785, 0.7019608 , 0.7411765 , ..., 0.5568628 ,\n",
       "          0.53333336, 0.53333336],\n",
       "         ...,\n",
       "         [0.7137255 , 0.7882353 , 0.7764706 , ..., 0.3019608 ,\n",
       "          0.2901961 , 0.30588236],\n",
       "         [0.83137256, 0.81960785, 0.84313726, ..., 0.29803923,\n",
       "          0.29411766, 0.29803923],\n",
       "         [0.8745098 , 0.8392157 , 0.8235294 , ..., 0.2901961 ,\n",
       "          0.3019608 , 0.30588236]],\n",
       " \n",
       "        [[1.        , 1.        , 0.972549  , ..., 0.27450982,\n",
       "          0.24705882, 0.22352941],\n",
       "         [1.        , 1.        , 1.        , ..., 0.24705882,\n",
       "          0.21960784, 0.20392157],\n",
       "         [1.        , 1.        , 1.        , ..., 0.22352941,\n",
       "          0.20784314, 0.19607843],\n",
       "         ...,\n",
       "         [0.98039216, 0.89411765, 0.78039217, ..., 0.43529412,\n",
       "          0.38431373, 0.3647059 ],\n",
       "         [1.        , 0.94509804, 0.78431374, ..., 0.4       ,\n",
       "          0.42352942, 0.44705883],\n",
       "         [1.        , 1.        , 1.        , ..., 0.40392157,\n",
       "          0.45882353, 0.4862745 ]],\n",
       " \n",
       "        [[1.        , 1.        , 0.99607843, ..., 0.26666668,\n",
       "          0.29803923, 0.2901961 ],\n",
       "         [1.        , 1.        , 0.99215686, ..., 0.28235295,\n",
       "          0.2901961 , 0.2784314 ],\n",
       "         [1.        , 1.        , 1.        , ..., 0.28235295,\n",
       "          0.27058825, 0.25882354],\n",
       "         ...,\n",
       "         [0.9882353 , 0.9882353 , 0.9490196 , ..., 0.70980394,\n",
       "          0.24705882, 0.2901961 ],\n",
       "         [1.        , 1.        , 0.9764706 , ..., 0.7137255 ,\n",
       "          0.37254903, 0.27450982],\n",
       "         [1.        , 1.        , 1.        , ..., 0.7490196 ,\n",
       "          0.5176471 , 0.2784314 ]],\n",
       " \n",
       "        [[0.95686275, 0.44313726, 0.37254903, ..., 0.6392157 ,\n",
       "          0.6745098 , 0.6627451 ],\n",
       "         [0.99607843, 0.8352941 , 0.3529412 , ..., 0.654902  ,\n",
       "          0.6745098 , 0.6509804 ],\n",
       "         [1.        , 0.9882353 , 0.36078432, ..., 0.64705884,\n",
       "          0.65882355, 0.6156863 ],\n",
       "         ...,\n",
       "         [0.8627451 , 0.8627451 , 0.99215686, ..., 0.44705883,\n",
       "          0.43529412, 0.29411766],\n",
       "         [0.7529412 , 0.8       , 0.9372549 , ..., 0.45882353,\n",
       "          0.4627451 , 0.32941177],\n",
       "         [0.83137256, 0.8627451 , 0.88235295, ..., 0.49019608,\n",
       "          0.5058824 , 0.36078432]]], dtype=float32))"
      ]
     },
     "execution_count": 13,
     "metadata": {},
     "output_type": "execute_result"
    }
   ],
   "source": [
    "# Normalize\n",
    "norm_train = train_data/255.0\n",
    "norm_valid = valid_data/255.0\n",
    "norm_train[:5],norm_valid[:5]"
   ]
  },
  {
   "cell_type": "code",
   "execution_count": 14,
   "metadata": {},
   "outputs": [
    {
     "data": {
      "text/plain": [
       "((87000,), (870,))"
      ]
     },
     "execution_count": 14,
     "metadata": {},
     "output_type": "execute_result"
    }
   ],
   "source": [
    "int_train_labels = np.argmax(train_labels,axis=1)\n",
    "int_valid_labels = np.argmax(valid_labels,axis=1)\n",
    "int_train_labels.shape,int_valid_labels.shape"
   ]
  },
  {
   "cell_type": "code",
   "execution_count": 15,
   "metadata": {},
   "outputs": [],
   "source": [
    "def create_model():\n",
    "    return keras.Sequential([\n",
    "        Input(shape=(64, 64, 1)),\n",
    "        Flatten(),\n",
    "        Dense(512, activation='relu'),\n",
    "        Dense(128, activation='relu'),\n",
    "        Dense(29, activation='softmax')\n",
    "\n",
    "    ])"
   ]
  },
  {
   "cell_type": "code",
   "execution_count": 16,
   "metadata": {},
   "outputs": [
    {
     "data": {
      "text/plain": [
       "Reusing TensorBoard on port 6006 (pid 22452), started 1 day, 18:37:23 ago. (Use '!kill 22452' to kill it.)"
      ]
     },
     "metadata": {},
     "output_type": "display_data"
    },
    {
     "data": {
      "text/html": [
       "\n",
       "      <iframe id=\"tensorboard-frame-7680673c7318ef02\" width=\"100%\" height=\"800\" frameborder=\"0\">\n",
       "      </iframe>\n",
       "      <script>\n",
       "        (function() {\n",
       "          const frame = document.getElementById(\"tensorboard-frame-7680673c7318ef02\");\n",
       "          const url = new URL(\"http://localhost\");\n",
       "          const port = 6006;\n",
       "          if (port) {\n",
       "            url.port = port;\n",
       "          }\n",
       "          frame.src = url;\n",
       "        })();\n",
       "      </script>\n",
       "    "
      ],
      "text/plain": [
       "<IPython.core.display.HTML object>"
      ]
     },
     "metadata": {},
     "output_type": "display_data"
    }
   ],
   "source": [
    "%tensorboard --logdir logs"
   ]
  },
  {
   "cell_type": "code",
   "execution_count": 17,
   "metadata": {},
   "outputs": [],
   "source": [
    "def train_model():\n",
    "    model = create_model()\n",
    "    model.summary()\n",
    "    model.compile(optimizer=keras.optimizers.Adam(learning_rate=0.01),\n",
    "                loss='sparse_categorical_crossentropy',\n",
    "                metrics=['accuracy'],)\n",
    "    logdir = os.path.join(\"logs\", datetime.datetime.now().strftime(\"%Y%m%d-%H%M%S\"))\n",
    "    tensorboard_callback = tf.keras.callbacks.TensorBoard(logdir, histogram_freq=1)\n",
    "    history = model.fit(norm_train,\n",
    "                        int_train_labels,\n",
    "                        validation_data=(\n",
    "                            norm_valid,\n",
    "                            int_valid_labels\n",
    "                        ),\n",
    "                        epochs=100,\n",
    "                        callbacks=[tensorboard_callback])\n",
    "    return history, model"
   ]
  },
  {
   "cell_type": "code",
   "execution_count": 18,
   "metadata": {},
   "outputs": [
    {
     "data": {
      "text/html": [
       "<pre style=\"white-space:pre;overflow-x:auto;line-height:normal;font-family:Menlo,'DejaVu Sans Mono',consolas,'Courier New',monospace\"><span style=\"font-weight: bold\">Model: \"sequential\"</span>\n",
       "</pre>\n"
      ],
      "text/plain": [
       "\u001b[1mModel: \"sequential\"\u001b[0m\n"
      ]
     },
     "metadata": {},
     "output_type": "display_data"
    },
    {
     "data": {
      "text/html": [
       "<pre style=\"white-space:pre;overflow-x:auto;line-height:normal;font-family:Menlo,'DejaVu Sans Mono',consolas,'Courier New',monospace\">┏━━━━━━━━━━━━━━━━━━━━━━━━━━━━━━━━━┳━━━━━━━━━━━━━━━━━━━━━━━━┳━━━━━━━━━━━━━━━┓\n",
       "┃<span style=\"font-weight: bold\"> Layer (type)                    </span>┃<span style=\"font-weight: bold\"> Output Shape           </span>┃<span style=\"font-weight: bold\">       Param # </span>┃\n",
       "┡━━━━━━━━━━━━━━━━━━━━━━━━━━━━━━━━━╇━━━━━━━━━━━━━━━━━━━━━━━━╇━━━━━━━━━━━━━━━┩\n",
       "│ flatten (<span style=\"color: #0087ff; text-decoration-color: #0087ff\">Flatten</span>)               │ (<span style=\"color: #00d7ff; text-decoration-color: #00d7ff\">None</span>, <span style=\"color: #00af00; text-decoration-color: #00af00\">4096</span>)           │             <span style=\"color: #00af00; text-decoration-color: #00af00\">0</span> │\n",
       "├─────────────────────────────────┼────────────────────────┼───────────────┤\n",
       "│ dense (<span style=\"color: #0087ff; text-decoration-color: #0087ff\">Dense</span>)                   │ (<span style=\"color: #00d7ff; text-decoration-color: #00d7ff\">None</span>, <span style=\"color: #00af00; text-decoration-color: #00af00\">512</span>)            │     <span style=\"color: #00af00; text-decoration-color: #00af00\">2,097,664</span> │\n",
       "├─────────────────────────────────┼────────────────────────┼───────────────┤\n",
       "│ dense_1 (<span style=\"color: #0087ff; text-decoration-color: #0087ff\">Dense</span>)                 │ (<span style=\"color: #00d7ff; text-decoration-color: #00d7ff\">None</span>, <span style=\"color: #00af00; text-decoration-color: #00af00\">128</span>)            │        <span style=\"color: #00af00; text-decoration-color: #00af00\">65,664</span> │\n",
       "├─────────────────────────────────┼────────────────────────┼───────────────┤\n",
       "│ dense_2 (<span style=\"color: #0087ff; text-decoration-color: #0087ff\">Dense</span>)                 │ (<span style=\"color: #00d7ff; text-decoration-color: #00d7ff\">None</span>, <span style=\"color: #00af00; text-decoration-color: #00af00\">29</span>)             │         <span style=\"color: #00af00; text-decoration-color: #00af00\">3,741</span> │\n",
       "└─────────────────────────────────┴────────────────────────┴───────────────┘\n",
       "</pre>\n"
      ],
      "text/plain": [
       "┏━━━━━━━━━━━━━━━━━━━━━━━━━━━━━━━━━┳━━━━━━━━━━━━━━━━━━━━━━━━┳━━━━━━━━━━━━━━━┓\n",
       "┃\u001b[1m \u001b[0m\u001b[1mLayer (type)                   \u001b[0m\u001b[1m \u001b[0m┃\u001b[1m \u001b[0m\u001b[1mOutput Shape          \u001b[0m\u001b[1m \u001b[0m┃\u001b[1m \u001b[0m\u001b[1m      Param #\u001b[0m\u001b[1m \u001b[0m┃\n",
       "┡━━━━━━━━━━━━━━━━━━━━━━━━━━━━━━━━━╇━━━━━━━━━━━━━━━━━━━━━━━━╇━━━━━━━━━━━━━━━┩\n",
       "│ flatten (\u001b[38;5;33mFlatten\u001b[0m)               │ (\u001b[38;5;45mNone\u001b[0m, \u001b[38;5;34m4096\u001b[0m)           │             \u001b[38;5;34m0\u001b[0m │\n",
       "├─────────────────────────────────┼────────────────────────┼───────────────┤\n",
       "│ dense (\u001b[38;5;33mDense\u001b[0m)                   │ (\u001b[38;5;45mNone\u001b[0m, \u001b[38;5;34m512\u001b[0m)            │     \u001b[38;5;34m2,097,664\u001b[0m │\n",
       "├─────────────────────────────────┼────────────────────────┼───────────────┤\n",
       "│ dense_1 (\u001b[38;5;33mDense\u001b[0m)                 │ (\u001b[38;5;45mNone\u001b[0m, \u001b[38;5;34m128\u001b[0m)            │        \u001b[38;5;34m65,664\u001b[0m │\n",
       "├─────────────────────────────────┼────────────────────────┼───────────────┤\n",
       "│ dense_2 (\u001b[38;5;33mDense\u001b[0m)                 │ (\u001b[38;5;45mNone\u001b[0m, \u001b[38;5;34m29\u001b[0m)             │         \u001b[38;5;34m3,741\u001b[0m │\n",
       "└─────────────────────────────────┴────────────────────────┴───────────────┘\n"
      ]
     },
     "metadata": {},
     "output_type": "display_data"
    },
    {
     "data": {
      "text/html": [
       "<pre style=\"white-space:pre;overflow-x:auto;line-height:normal;font-family:Menlo,'DejaVu Sans Mono',consolas,'Courier New',monospace\"><span style=\"font-weight: bold\"> Total params: </span><span style=\"color: #00af00; text-decoration-color: #00af00\">2,167,069</span> (8.27 MB)\n",
       "</pre>\n"
      ],
      "text/plain": [
       "\u001b[1m Total params: \u001b[0m\u001b[38;5;34m2,167,069\u001b[0m (8.27 MB)\n"
      ]
     },
     "metadata": {},
     "output_type": "display_data"
    },
    {
     "data": {
      "text/html": [
       "<pre style=\"white-space:pre;overflow-x:auto;line-height:normal;font-family:Menlo,'DejaVu Sans Mono',consolas,'Courier New',monospace\"><span style=\"font-weight: bold\"> Trainable params: </span><span style=\"color: #00af00; text-decoration-color: #00af00\">2,167,069</span> (8.27 MB)\n",
       "</pre>\n"
      ],
      "text/plain": [
       "\u001b[1m Trainable params: \u001b[0m\u001b[38;5;34m2,167,069\u001b[0m (8.27 MB)\n"
      ]
     },
     "metadata": {},
     "output_type": "display_data"
    },
    {
     "data": {
      "text/html": [
       "<pre style=\"white-space:pre;overflow-x:auto;line-height:normal;font-family:Menlo,'DejaVu Sans Mono',consolas,'Courier New',monospace\"><span style=\"font-weight: bold\"> Non-trainable params: </span><span style=\"color: #00af00; text-decoration-color: #00af00\">0</span> (0.00 B)\n",
       "</pre>\n"
      ],
      "text/plain": [
       "\u001b[1m Non-trainable params: \u001b[0m\u001b[38;5;34m0\u001b[0m (0.00 B)\n"
      ]
     },
     "metadata": {},
     "output_type": "display_data"
    },
    {
     "name": "stdout",
     "output_type": "stream",
     "text": [
      "Epoch 1/100\n",
      "\u001b[1m2719/2719\u001b[0m \u001b[32m━━━━━━━━━━━━━━━━━━━━\u001b[0m\u001b[37m\u001b[0m \u001b[1m33s\u001b[0m 12ms/step - accuracy: 0.0340 - loss: 4.4679 - val_accuracy: 0.0345 - val_loss: 3.3723\n",
      "Epoch 2/100\n",
      "\u001b[1m2719/2719\u001b[0m \u001b[32m━━━━━━━━━━━━━━━━━━━━\u001b[0m\u001b[37m\u001b[0m \u001b[1m31s\u001b[0m 12ms/step - accuracy: 0.0335 - loss: 3.3697 - val_accuracy: 0.0345 - val_loss: 3.3713\n",
      "Epoch 3/100\n",
      "\u001b[1m2719/2719\u001b[0m \u001b[32m━━━━━━━━━━━━━━━━━━━━\u001b[0m\u001b[37m\u001b[0m \u001b[1m38s\u001b[0m 14ms/step - accuracy: 0.0356 - loss: 3.3695 - val_accuracy: 0.0345 - val_loss: 3.3693\n",
      "Epoch 4/100\n",
      "\u001b[1m2719/2719\u001b[0m \u001b[32m━━━━━━━━━━━━━━━━━━━━\u001b[0m\u001b[37m\u001b[0m \u001b[1m30s\u001b[0m 11ms/step - accuracy: 0.0354 - loss: 3.3696 - val_accuracy: 0.0345 - val_loss: 3.3700\n",
      "Epoch 5/100\n",
      "\u001b[1m2719/2719\u001b[0m \u001b[32m━━━━━━━━━━━━━━━━━━━━\u001b[0m\u001b[37m\u001b[0m \u001b[1m30s\u001b[0m 11ms/step - accuracy: 0.0348 - loss: 3.3696 - val_accuracy: 0.0345 - val_loss: 3.3709\n",
      "Epoch 6/100\n",
      "\u001b[1m2719/2719\u001b[0m \u001b[32m━━━━━━━━━━━━━━━━━━━━\u001b[0m\u001b[37m\u001b[0m \u001b[1m30s\u001b[0m 11ms/step - accuracy: 0.0339 - loss: 3.3698 - val_accuracy: 0.0345 - val_loss: 3.3698\n",
      "Epoch 7/100\n",
      "\u001b[1m2719/2719\u001b[0m \u001b[32m━━━━━━━━━━━━━━━━━━━━\u001b[0m\u001b[37m\u001b[0m \u001b[1m32s\u001b[0m 12ms/step - accuracy: 0.0340 - loss: 3.3696 - val_accuracy: 0.0345 - val_loss: 3.3692\n",
      "Epoch 8/100\n",
      "\u001b[1m2719/2719\u001b[0m \u001b[32m━━━━━━━━━━━━━━━━━━━━\u001b[0m\u001b[37m\u001b[0m \u001b[1m31s\u001b[0m 11ms/step - accuracy: 0.0346 - loss: 3.3697 - val_accuracy: 0.0345 - val_loss: 3.3705\n",
      "Epoch 9/100\n",
      "\u001b[1m2719/2719\u001b[0m \u001b[32m━━━━━━━━━━━━━━━━━━━━\u001b[0m\u001b[37m\u001b[0m \u001b[1m30s\u001b[0m 11ms/step - accuracy: 0.0349 - loss: 3.3697 - val_accuracy: 0.0345 - val_loss: 3.3683\n",
      "Epoch 10/100\n",
      "\u001b[1m2719/2719\u001b[0m \u001b[32m━━━━━━━━━━━━━━━━━━━━\u001b[0m\u001b[37m\u001b[0m \u001b[1m53s\u001b[0m 19ms/step - accuracy: 0.0341 - loss: 3.3699 - val_accuracy: 0.0345 - val_loss: 3.3692\n",
      "Epoch 11/100\n",
      "\u001b[1m2719/2719\u001b[0m \u001b[32m━━━━━━━━━━━━━━━━━━━━\u001b[0m\u001b[37m\u001b[0m \u001b[1m55s\u001b[0m 20ms/step - accuracy: 0.0346 - loss: 3.3694 - val_accuracy: 0.0345 - val_loss: 3.3670\n",
      "Epoch 12/100\n",
      "\u001b[1m2719/2719\u001b[0m \u001b[32m━━━━━━━━━━━━━━━━━━━━\u001b[0m\u001b[37m\u001b[0m \u001b[1m32s\u001b[0m 12ms/step - accuracy: 0.0347 - loss: 3.3698 - val_accuracy: 0.0345 - val_loss: 3.3707\n",
      "Epoch 13/100\n",
      "\u001b[1m2719/2719\u001b[0m \u001b[32m━━━━━━━━━━━━━━━━━━━━\u001b[0m\u001b[37m\u001b[0m \u001b[1m32s\u001b[0m 12ms/step - accuracy: 0.0340 - loss: 3.3700 - val_accuracy: 0.0345 - val_loss: 3.3717\n",
      "Epoch 14/100\n",
      "\u001b[1m2719/2719\u001b[0m \u001b[32m━━━━━━━━━━━━━━━━━━━━\u001b[0m\u001b[37m\u001b[0m \u001b[1m61s\u001b[0m 22ms/step - accuracy: 0.0343 - loss: 3.3696 - val_accuracy: 0.0345 - val_loss: 3.3693\n",
      "Epoch 15/100\n",
      "\u001b[1m2719/2719\u001b[0m \u001b[32m━━━━━━━━━━━━━━━━━━━━\u001b[0m\u001b[37m\u001b[0m \u001b[1m31s\u001b[0m 11ms/step - accuracy: 0.0330 - loss: 3.3697 - val_accuracy: 0.0345 - val_loss: 3.3707\n",
      "Epoch 16/100\n",
      "\u001b[1m2719/2719\u001b[0m \u001b[32m━━━━━━━━━━━━━━━━━━━━\u001b[0m\u001b[37m\u001b[0m \u001b[1m30s\u001b[0m 11ms/step - accuracy: 0.0344 - loss: 3.3696 - val_accuracy: 0.0345 - val_loss: 3.3681\n",
      "Epoch 17/100\n",
      "\u001b[1m2719/2719\u001b[0m \u001b[32m━━━━━━━━━━━━━━━━━━━━\u001b[0m\u001b[37m\u001b[0m \u001b[1m37s\u001b[0m 14ms/step - accuracy: 0.0342 - loss: 3.3699 - val_accuracy: 0.0345 - val_loss: 3.3684\n",
      "Epoch 18/100\n",
      "\u001b[1m2719/2719\u001b[0m \u001b[32m━━━━━━━━━━━━━━━━━━━━\u001b[0m\u001b[37m\u001b[0m \u001b[1m38s\u001b[0m 14ms/step - accuracy: 0.0341 - loss: 3.3697 - val_accuracy: 0.0345 - val_loss: 3.3684\n",
      "Epoch 19/100\n",
      "\u001b[1m2719/2719\u001b[0m \u001b[32m━━━━━━━━━━━━━━━━━━━━\u001b[0m\u001b[37m\u001b[0m \u001b[1m32s\u001b[0m 12ms/step - accuracy: 0.0338 - loss: 3.3699 - val_accuracy: 0.0345 - val_loss: 3.3677\n",
      "Epoch 20/100\n",
      "\u001b[1m2719/2719\u001b[0m \u001b[32m━━━━━━━━━━━━━━━━━━━━\u001b[0m\u001b[37m\u001b[0m \u001b[1m42s\u001b[0m 15ms/step - accuracy: 0.0342 - loss: 3.3697 - val_accuracy: 0.0345 - val_loss: 3.3684\n",
      "Epoch 21/100\n",
      "\u001b[1m2719/2719\u001b[0m \u001b[32m━━━━━━━━━━━━━━━━━━━━\u001b[0m\u001b[37m\u001b[0m \u001b[1m31s\u001b[0m 12ms/step - accuracy: 0.0347 - loss: 3.3695 - val_accuracy: 0.0345 - val_loss: 3.3676\n",
      "Epoch 22/100\n",
      "\u001b[1m2719/2719\u001b[0m \u001b[32m━━━━━━━━━━━━━━━━━━━━\u001b[0m\u001b[37m\u001b[0m \u001b[1m32s\u001b[0m 12ms/step - accuracy: 0.0335 - loss: 3.3699 - val_accuracy: 0.0345 - val_loss: 3.3688\n",
      "Epoch 23/100\n",
      "\u001b[1m2719/2719\u001b[0m \u001b[32m━━━━━━━━━━━━━━━━━━━━\u001b[0m\u001b[37m\u001b[0m \u001b[1m32s\u001b[0m 12ms/step - accuracy: 0.0345 - loss: 3.3700 - val_accuracy: 0.0345 - val_loss: 3.3669\n",
      "Epoch 24/100\n",
      "\u001b[1m2719/2719\u001b[0m \u001b[32m━━━━━━━━━━━━━━━━━━━━\u001b[0m\u001b[37m\u001b[0m \u001b[1m34s\u001b[0m 12ms/step - accuracy: 0.0362 - loss: 3.3695 - val_accuracy: 0.0345 - val_loss: 3.3689\n",
      "Epoch 25/100\n",
      "\u001b[1m2719/2719\u001b[0m \u001b[32m━━━━━━━━━━━━━━━━━━━━\u001b[0m\u001b[37m\u001b[0m \u001b[1m30s\u001b[0m 11ms/step - accuracy: 0.0355 - loss: 3.3696 - val_accuracy: 0.0345 - val_loss: 3.3692\n",
      "Epoch 26/100\n",
      "\u001b[1m2719/2719\u001b[0m \u001b[32m━━━━━━━━━━━━━━━━━━━━\u001b[0m\u001b[37m\u001b[0m \u001b[1m30s\u001b[0m 11ms/step - accuracy: 0.0334 - loss: 3.3697 - val_accuracy: 0.0345 - val_loss: 3.3678\n",
      "Epoch 27/100\n",
      "\u001b[1m2719/2719\u001b[0m \u001b[32m━━━━━━━━━━━━━━━━━━━━\u001b[0m\u001b[37m\u001b[0m \u001b[1m30s\u001b[0m 11ms/step - accuracy: 0.0336 - loss: 3.3699 - val_accuracy: 0.0345 - val_loss: 3.3720\n",
      "Epoch 28/100\n",
      "\u001b[1m2719/2719\u001b[0m \u001b[32m━━━━━━━━━━━━━━━━━━━━\u001b[0m\u001b[37m\u001b[0m \u001b[1m31s\u001b[0m 11ms/step - accuracy: 0.0353 - loss: 3.3694 - val_accuracy: 0.0345 - val_loss: 3.3713\n",
      "Epoch 29/100\n",
      "\u001b[1m2719/2719\u001b[0m \u001b[32m━━━━━━━━━━━━━━━━━━━━\u001b[0m\u001b[37m\u001b[0m \u001b[1m30s\u001b[0m 11ms/step - accuracy: 0.0336 - loss: 3.3697 - val_accuracy: 0.0345 - val_loss: 3.3715\n",
      "Epoch 30/100\n",
      "\u001b[1m2719/2719\u001b[0m \u001b[32m━━━━━━━━━━━━━━━━━━━━\u001b[0m\u001b[37m\u001b[0m \u001b[1m30s\u001b[0m 11ms/step - accuracy: 0.0354 - loss: 3.3695 - val_accuracy: 0.0345 - val_loss: 3.3727\n",
      "Epoch 31/100\n",
      "\u001b[1m2719/2719\u001b[0m \u001b[32m━━━━━━━━━━━━━━━━━━━━\u001b[0m\u001b[37m\u001b[0m \u001b[1m30s\u001b[0m 11ms/step - accuracy: 0.0345 - loss: 3.3696 - val_accuracy: 0.0345 - val_loss: 3.3652\n",
      "Epoch 32/100\n",
      "\u001b[1m2719/2719\u001b[0m \u001b[32m━━━━━━━━━━━━━━━━━━━━\u001b[0m\u001b[37m\u001b[0m \u001b[1m31s\u001b[0m 11ms/step - accuracy: 0.0332 - loss: 3.3698 - val_accuracy: 0.0345 - val_loss: 3.3713\n",
      "Epoch 33/100\n",
      "\u001b[1m2719/2719\u001b[0m \u001b[32m━━━━━━━━━━━━━━━━━━━━\u001b[0m\u001b[37m\u001b[0m \u001b[1m30s\u001b[0m 11ms/step - accuracy: 0.0341 - loss: 3.3698 - val_accuracy: 0.0345 - val_loss: 3.3663\n",
      "Epoch 34/100\n",
      "\u001b[1m2719/2719\u001b[0m \u001b[32m━━━━━━━━━━━━━━━━━━━━\u001b[0m\u001b[37m\u001b[0m \u001b[1m31s\u001b[0m 11ms/step - accuracy: 0.0336 - loss: 3.3698 - val_accuracy: 0.0345 - val_loss: 3.3670\n",
      "Epoch 35/100\n",
      "\u001b[1m2719/2719\u001b[0m \u001b[32m━━━━━━━━━━━━━━━━━━━━\u001b[0m\u001b[37m\u001b[0m \u001b[1m31s\u001b[0m 11ms/step - accuracy: 0.0354 - loss: 3.3694 - val_accuracy: 0.0345 - val_loss: 3.3675\n",
      "Epoch 36/100\n",
      "\u001b[1m2719/2719\u001b[0m \u001b[32m━━━━━━━━━━━━━━━━━━━━\u001b[0m\u001b[37m\u001b[0m \u001b[1m30s\u001b[0m 11ms/step - accuracy: 0.0344 - loss: 3.3699 - val_accuracy: 0.0345 - val_loss: 3.3691\n",
      "Epoch 37/100\n",
      "\u001b[1m2719/2719\u001b[0m \u001b[32m━━━━━━━━━━━━━━━━━━━━\u001b[0m\u001b[37m\u001b[0m \u001b[1m30s\u001b[0m 11ms/step - accuracy: 0.0346 - loss: 3.3696 - val_accuracy: 0.0345 - val_loss: 3.3690\n",
      "Epoch 38/100\n",
      "\u001b[1m2719/2719\u001b[0m \u001b[32m━━━━━━━━━━━━━━━━━━━━\u001b[0m\u001b[37m\u001b[0m \u001b[1m29s\u001b[0m 11ms/step - accuracy: 0.0340 - loss: 3.3696 - val_accuracy: 0.0345 - val_loss: 3.3729\n",
      "Epoch 39/100\n",
      "\u001b[1m2719/2719\u001b[0m \u001b[32m━━━━━━━━━━━━━━━━━━━━\u001b[0m\u001b[37m\u001b[0m \u001b[1m31s\u001b[0m 11ms/step - accuracy: 0.0340 - loss: 3.3700 - val_accuracy: 0.0345 - val_loss: 3.3724\n",
      "Epoch 40/100\n",
      "\u001b[1m2719/2719\u001b[0m \u001b[32m━━━━━━━━━━━━━━━━━━━━\u001b[0m\u001b[37m\u001b[0m \u001b[1m30s\u001b[0m 11ms/step - accuracy: 0.0351 - loss: 3.3696 - val_accuracy: 0.0345 - val_loss: 3.3660\n",
      "Epoch 41/100\n",
      "\u001b[1m2719/2719\u001b[0m \u001b[32m━━━━━━━━━━━━━━━━━━━━\u001b[0m\u001b[37m\u001b[0m \u001b[1m32s\u001b[0m 12ms/step - accuracy: 0.0340 - loss: 3.3697 - val_accuracy: 0.0345 - val_loss: 3.3693\n",
      "Epoch 42/100\n",
      "\u001b[1m2719/2719\u001b[0m \u001b[32m━━━━━━━━━━━━━━━━━━━━\u001b[0m\u001b[37m\u001b[0m \u001b[1m32s\u001b[0m 12ms/step - accuracy: 0.0354 - loss: 3.3697 - val_accuracy: 0.0345 - val_loss: 3.3701\n",
      "Epoch 43/100\n",
      "\u001b[1m2719/2719\u001b[0m \u001b[32m━━━━━━━━━━━━━━━━━━━━\u001b[0m\u001b[37m\u001b[0m \u001b[1m31s\u001b[0m 12ms/step - accuracy: 0.0332 - loss: 3.3696 - val_accuracy: 0.0345 - val_loss: 3.3713\n",
      "Epoch 44/100\n",
      "\u001b[1m2719/2719\u001b[0m \u001b[32m━━━━━━━━━━━━━━━━━━━━\u001b[0m\u001b[37m\u001b[0m \u001b[1m31s\u001b[0m 11ms/step - accuracy: 0.0347 - loss: 3.3698 - val_accuracy: 0.0345 - val_loss: 3.3673\n",
      "Epoch 45/100\n",
      "\u001b[1m2719/2719\u001b[0m \u001b[32m━━━━━━━━━━━━━━━━━━━━\u001b[0m\u001b[37m\u001b[0m \u001b[1m31s\u001b[0m 11ms/step - accuracy: 0.0338 - loss: 3.3696 - val_accuracy: 0.0345 - val_loss: 3.3691\n",
      "Epoch 46/100\n",
      "\u001b[1m2719/2719\u001b[0m \u001b[32m━━━━━━━━━━━━━━━━━━━━\u001b[0m\u001b[37m\u001b[0m \u001b[1m31s\u001b[0m 12ms/step - accuracy: 0.0353 - loss: 3.3697 - val_accuracy: 0.0345 - val_loss: 3.3715\n",
      "Epoch 47/100\n",
      "\u001b[1m2719/2719\u001b[0m \u001b[32m━━━━━━━━━━━━━━━━━━━━\u001b[0m\u001b[37m\u001b[0m \u001b[1m32s\u001b[0m 12ms/step - accuracy: 0.0329 - loss: 3.3697 - val_accuracy: 0.0345 - val_loss: 3.3684\n",
      "Epoch 48/100\n",
      "\u001b[1m2719/2719\u001b[0m \u001b[32m━━━━━━━━━━━━━━━━━━━━\u001b[0m\u001b[37m\u001b[0m \u001b[1m30s\u001b[0m 11ms/step - accuracy: 0.0341 - loss: 3.3699 - val_accuracy: 0.0345 - val_loss: 3.3729\n",
      "Epoch 49/100\n",
      "\u001b[1m2719/2719\u001b[0m \u001b[32m━━━━━━━━━━━━━━━━━━━━\u001b[0m\u001b[37m\u001b[0m \u001b[1m31s\u001b[0m 11ms/step - accuracy: 0.0344 - loss: 3.3699 - val_accuracy: 0.0345 - val_loss: 3.3682\n",
      "Epoch 50/100\n",
      "\u001b[1m2719/2719\u001b[0m \u001b[32m━━━━━━━━━━━━━━━━━━━━\u001b[0m\u001b[37m\u001b[0m \u001b[1m31s\u001b[0m 11ms/step - accuracy: 0.0335 - loss: 3.3695 - val_accuracy: 0.0345 - val_loss: 3.3685\n",
      "Epoch 51/100\n",
      "\u001b[1m2719/2719\u001b[0m \u001b[32m━━━━━━━━━━━━━━━━━━━━\u001b[0m\u001b[37m\u001b[0m \u001b[1m31s\u001b[0m 11ms/step - accuracy: 0.0351 - loss: 3.3696 - val_accuracy: 0.0345 - val_loss: 3.3730\n",
      "Epoch 52/100\n",
      "\u001b[1m2719/2719\u001b[0m \u001b[32m━━━━━━━━━━━━━━━━━━━━\u001b[0m\u001b[37m\u001b[0m \u001b[1m31s\u001b[0m 12ms/step - accuracy: 0.0338 - loss: 3.3700 - val_accuracy: 0.0345 - val_loss: 3.3689\n",
      "Epoch 53/100\n",
      "\u001b[1m2719/2719\u001b[0m \u001b[32m━━━━━━━━━━━━━━━━━━━━\u001b[0m\u001b[37m\u001b[0m \u001b[1m31s\u001b[0m 11ms/step - accuracy: 0.0348 - loss: 3.3696 - val_accuracy: 0.0345 - val_loss: 3.3755\n",
      "Epoch 54/100\n",
      "\u001b[1m2719/2719\u001b[0m \u001b[32m━━━━━━━━━━━━━━━━━━━━\u001b[0m\u001b[37m\u001b[0m \u001b[1m31s\u001b[0m 12ms/step - accuracy: 0.0340 - loss: 3.3700 - val_accuracy: 0.0345 - val_loss: 3.3702\n",
      "Epoch 55/100\n",
      "\u001b[1m2719/2719\u001b[0m \u001b[32m━━━━━━━━━━━━━━━━━━━━\u001b[0m\u001b[37m\u001b[0m \u001b[1m31s\u001b[0m 11ms/step - accuracy: 0.0334 - loss: 3.3699 - val_accuracy: 0.0345 - val_loss: 3.3701\n",
      "Epoch 56/100\n",
      "\u001b[1m2719/2719\u001b[0m \u001b[32m━━━━━━━━━━━━━━━━━━━━\u001b[0m\u001b[37m\u001b[0m \u001b[1m31s\u001b[0m 11ms/step - accuracy: 0.0339 - loss: 3.3699 - val_accuracy: 0.0345 - val_loss: 3.3701\n",
      "Epoch 57/100\n",
      "\u001b[1m2719/2719\u001b[0m \u001b[32m━━━━━━━━━━━━━━━━━━━━\u001b[0m\u001b[37m\u001b[0m \u001b[1m31s\u001b[0m 11ms/step - accuracy: 0.0344 - loss: 3.3696 - val_accuracy: 0.0345 - val_loss: 3.3674\n",
      "Epoch 58/100\n",
      "\u001b[1m2719/2719\u001b[0m \u001b[32m━━━━━━━━━━━━━━━━━━━━\u001b[0m\u001b[37m\u001b[0m \u001b[1m32s\u001b[0m 12ms/step - accuracy: 0.0346 - loss: 3.3699 - val_accuracy: 0.0345 - val_loss: 3.3689\n",
      "Epoch 59/100\n",
      "\u001b[1m2719/2719\u001b[0m \u001b[32m━━━━━━━━━━━━━━━━━━━━\u001b[0m\u001b[37m\u001b[0m \u001b[1m33s\u001b[0m 12ms/step - accuracy: 0.0351 - loss: 3.3696 - val_accuracy: 0.0345 - val_loss: 3.3735\n",
      "Epoch 60/100\n",
      "\u001b[1m2719/2719\u001b[0m \u001b[32m━━━━━━━━━━━━━━━━━━━━\u001b[0m\u001b[37m\u001b[0m \u001b[1m33s\u001b[0m 12ms/step - accuracy: 0.0347 - loss: 3.3697 - val_accuracy: 0.0345 - val_loss: 3.3666\n",
      "Epoch 61/100\n",
      "\u001b[1m2719/2719\u001b[0m \u001b[32m━━━━━━━━━━━━━━━━━━━━\u001b[0m\u001b[37m\u001b[0m \u001b[1m33s\u001b[0m 12ms/step - accuracy: 0.0339 - loss: 3.3697 - val_accuracy: 0.0345 - val_loss: 3.3712\n",
      "Epoch 62/100\n",
      "\u001b[1m2719/2719\u001b[0m \u001b[32m━━━━━━━━━━━━━━━━━━━━\u001b[0m\u001b[37m\u001b[0m \u001b[1m31s\u001b[0m 11ms/step - accuracy: 0.0339 - loss: 3.3700 - val_accuracy: 0.0345 - val_loss: 3.3688\n",
      "Epoch 63/100\n",
      "\u001b[1m2719/2719\u001b[0m \u001b[32m━━━━━━━━━━━━━━━━━━━━\u001b[0m\u001b[37m\u001b[0m \u001b[1m68s\u001b[0m 25ms/step - accuracy: 0.0332 - loss: 3.3702 - val_accuracy: 0.0345 - val_loss: 3.3733\n",
      "Epoch 64/100\n",
      "\u001b[1m2719/2719\u001b[0m \u001b[32m━━━━━━━━━━━━━━━━━━━━\u001b[0m\u001b[37m\u001b[0m \u001b[1m49s\u001b[0m 18ms/step - accuracy: 0.0342 - loss: 3.3700 - val_accuracy: 0.0345 - val_loss: 3.3686\n",
      "Epoch 65/100\n",
      "\u001b[1m2719/2719\u001b[0m \u001b[32m━━━━━━━━━━━━━━━━━━━━\u001b[0m\u001b[37m\u001b[0m \u001b[1m31s\u001b[0m 12ms/step - accuracy: 0.0342 - loss: 3.3695 - val_accuracy: 0.0345 - val_loss: 3.3698\n",
      "Epoch 66/100\n",
      "\u001b[1m2719/2719\u001b[0m \u001b[32m━━━━━━━━━━━━━━━━━━━━\u001b[0m\u001b[37m\u001b[0m \u001b[1m32s\u001b[0m 12ms/step - accuracy: 0.0338 - loss: 3.3697 - val_accuracy: 0.0345 - val_loss: 3.3708\n",
      "Epoch 67/100\n",
      "\u001b[1m2719/2719\u001b[0m \u001b[32m━━━━━━━━━━━━━━━━━━━━\u001b[0m\u001b[37m\u001b[0m \u001b[1m33s\u001b[0m 12ms/step - accuracy: 0.0324 - loss: 3.3700 - val_accuracy: 0.0345 - val_loss: 3.3676\n",
      "Epoch 68/100\n",
      "\u001b[1m2719/2719\u001b[0m \u001b[32m━━━━━━━━━━━━━━━━━━━━\u001b[0m\u001b[37m\u001b[0m \u001b[1m32s\u001b[0m 12ms/step - accuracy: 0.0338 - loss: 3.3696 - val_accuracy: 0.0345 - val_loss: 3.3685\n",
      "Epoch 69/100\n",
      "\u001b[1m2719/2719\u001b[0m \u001b[32m━━━━━━━━━━━━━━━━━━━━\u001b[0m\u001b[37m\u001b[0m \u001b[1m32s\u001b[0m 12ms/step - accuracy: 0.0336 - loss: 3.3697 - val_accuracy: 0.0345 - val_loss: 3.3687\n",
      "Epoch 70/100\n",
      "\u001b[1m2719/2719\u001b[0m \u001b[32m━━━━━━━━━━━━━━━━━━━━\u001b[0m\u001b[37m\u001b[0m \u001b[1m32s\u001b[0m 12ms/step - accuracy: 0.0344 - loss: 3.3697 - val_accuracy: 0.0345 - val_loss: 3.3713\n",
      "Epoch 71/100\n",
      "\u001b[1m2719/2719\u001b[0m \u001b[32m━━━━━━━━━━━━━━━━━━━━\u001b[0m\u001b[37m\u001b[0m \u001b[1m33s\u001b[0m 12ms/step - accuracy: 0.0343 - loss: 3.3697 - val_accuracy: 0.0345 - val_loss: 3.3698\n",
      "Epoch 72/100\n",
      "\u001b[1m2719/2719\u001b[0m \u001b[32m━━━━━━━━━━━━━━━━━━━━\u001b[0m\u001b[37m\u001b[0m \u001b[1m33s\u001b[0m 12ms/step - accuracy: 0.0339 - loss: 3.3701 - val_accuracy: 0.0345 - val_loss: 3.3711\n",
      "Epoch 73/100\n",
      "\u001b[1m2719/2719\u001b[0m \u001b[32m━━━━━━━━━━━━━━━━━━━━\u001b[0m\u001b[37m\u001b[0m \u001b[1m34s\u001b[0m 12ms/step - accuracy: 0.0338 - loss: 3.3700 - val_accuracy: 0.0345 - val_loss: 3.3671\n",
      "Epoch 74/100\n",
      "\u001b[1m2719/2719\u001b[0m \u001b[32m━━━━━━━━━━━━━━━━━━━━\u001b[0m\u001b[37m\u001b[0m \u001b[1m32s\u001b[0m 12ms/step - accuracy: 0.0337 - loss: 3.3695 - val_accuracy: 0.0345 - val_loss: 3.3732\n",
      "Epoch 75/100\n",
      "\u001b[1m2719/2719\u001b[0m \u001b[32m━━━━━━━━━━━━━━━━━━━━\u001b[0m\u001b[37m\u001b[0m \u001b[1m33s\u001b[0m 12ms/step - accuracy: 0.0332 - loss: 3.3698 - val_accuracy: 0.0345 - val_loss: 3.3700\n",
      "Epoch 76/100\n",
      "\u001b[1m2719/2719\u001b[0m \u001b[32m━━━━━━━━━━━━━━━━━━━━\u001b[0m\u001b[37m\u001b[0m \u001b[1m34s\u001b[0m 13ms/step - accuracy: 0.0344 - loss: 3.3699 - val_accuracy: 0.0345 - val_loss: 3.3668\n",
      "Epoch 77/100\n",
      "\u001b[1m2719/2719\u001b[0m \u001b[32m━━━━━━━━━━━━━━━━━━━━\u001b[0m\u001b[37m\u001b[0m \u001b[1m34s\u001b[0m 12ms/step - accuracy: 0.0342 - loss: 3.3698 - val_accuracy: 0.0345 - val_loss: 3.3705\n",
      "Epoch 78/100\n",
      "\u001b[1m2719/2719\u001b[0m \u001b[32m━━━━━━━━━━━━━━━━━━━━\u001b[0m\u001b[37m\u001b[0m \u001b[1m33s\u001b[0m 12ms/step - accuracy: 0.0342 - loss: 3.3697 - val_accuracy: 0.0345 - val_loss: 3.3675\n",
      "Epoch 79/100\n",
      "\u001b[1m2719/2719\u001b[0m \u001b[32m━━━━━━━━━━━━━━━━━━━━\u001b[0m\u001b[37m\u001b[0m \u001b[1m33s\u001b[0m 12ms/step - accuracy: 0.0354 - loss: 3.3696 - val_accuracy: 0.0345 - val_loss: 3.3709\n",
      "Epoch 80/100\n",
      "\u001b[1m2719/2719\u001b[0m \u001b[32m━━━━━━━━━━━━━━━━━━━━\u001b[0m\u001b[37m\u001b[0m \u001b[1m35s\u001b[0m 13ms/step - accuracy: 0.0345 - loss: 3.3700 - val_accuracy: 0.0345 - val_loss: 3.3717\n",
      "Epoch 81/100\n",
      "\u001b[1m2719/2719\u001b[0m \u001b[32m━━━━━━━━━━━━━━━━━━━━\u001b[0m\u001b[37m\u001b[0m \u001b[1m34s\u001b[0m 13ms/step - accuracy: 0.0354 - loss: 3.3699 - val_accuracy: 0.0345 - val_loss: 3.3675\n",
      "Epoch 82/100\n",
      "\u001b[1m2719/2719\u001b[0m \u001b[32m━━━━━━━━━━━━━━━━━━━━\u001b[0m\u001b[37m\u001b[0m \u001b[1m33s\u001b[0m 12ms/step - accuracy: 0.0335 - loss: 3.3695 - val_accuracy: 0.0345 - val_loss: 3.3694\n",
      "Epoch 83/100\n",
      "\u001b[1m2719/2719\u001b[0m \u001b[32m━━━━━━━━━━━━━━━━━━━━\u001b[0m\u001b[37m\u001b[0m \u001b[1m32s\u001b[0m 12ms/step - accuracy: 0.0343 - loss: 3.3696 - val_accuracy: 0.0345 - val_loss: 3.3673\n",
      "Epoch 84/100\n",
      "\u001b[1m2719/2719\u001b[0m \u001b[32m━━━━━━━━━━━━━━━━━━━━\u001b[0m\u001b[37m\u001b[0m \u001b[1m33s\u001b[0m 12ms/step - accuracy: 0.0355 - loss: 3.3698 - val_accuracy: 0.0345 - val_loss: 3.3722\n",
      "Epoch 85/100\n",
      "\u001b[1m2719/2719\u001b[0m \u001b[32m━━━━━━━━━━━━━━━━━━━━\u001b[0m\u001b[37m\u001b[0m \u001b[1m34s\u001b[0m 13ms/step - accuracy: 0.0344 - loss: 3.3696 - val_accuracy: 0.0345 - val_loss: 3.3671\n",
      "Epoch 86/100\n",
      "\u001b[1m2719/2719\u001b[0m \u001b[32m━━━━━━━━━━━━━━━━━━━━\u001b[0m\u001b[37m\u001b[0m \u001b[1m34s\u001b[0m 12ms/step - accuracy: 0.0335 - loss: 3.3698 - val_accuracy: 0.0345 - val_loss: 3.3675\n",
      "Epoch 87/100\n",
      "\u001b[1m2719/2719\u001b[0m \u001b[32m━━━━━━━━━━━━━━━━━━━━\u001b[0m\u001b[37m\u001b[0m \u001b[1m33s\u001b[0m 12ms/step - accuracy: 0.0327 - loss: 3.3697 - val_accuracy: 0.0345 - val_loss: 3.3675\n",
      "Epoch 88/100\n",
      "\u001b[1m2719/2719\u001b[0m \u001b[32m━━━━━━━━━━━━━━━━━━━━\u001b[0m\u001b[37m\u001b[0m \u001b[1m33s\u001b[0m 12ms/step - accuracy: 0.0352 - loss: 3.3695 - val_accuracy: 0.0345 - val_loss: 3.3684\n",
      "Epoch 89/100\n",
      "\u001b[1m2719/2719\u001b[0m \u001b[32m━━━━━━━━━━━━━━━━━━━━\u001b[0m\u001b[37m\u001b[0m \u001b[1m33s\u001b[0m 12ms/step - accuracy: 0.0340 - loss: 3.3695 - val_accuracy: 0.0345 - val_loss: 3.3717\n",
      "Epoch 90/100\n",
      "\u001b[1m2719/2719\u001b[0m \u001b[32m━━━━━━━━━━━━━━━━━━━━\u001b[0m\u001b[37m\u001b[0m \u001b[1m34s\u001b[0m 12ms/step - accuracy: 0.0336 - loss: 3.3697 - val_accuracy: 0.0345 - val_loss: 3.3670\n",
      "Epoch 91/100\n",
      "\u001b[1m2719/2719\u001b[0m \u001b[32m━━━━━━━━━━━━━━━━━━━━\u001b[0m\u001b[37m\u001b[0m \u001b[1m33s\u001b[0m 12ms/step - accuracy: 0.0342 - loss: 3.3698 - val_accuracy: 0.0345 - val_loss: 3.3682\n",
      "Epoch 92/100\n",
      "\u001b[1m2719/2719\u001b[0m \u001b[32m━━━━━━━━━━━━━━━━━━━━\u001b[0m\u001b[37m\u001b[0m \u001b[1m35s\u001b[0m 13ms/step - accuracy: 0.0345 - loss: 3.3697 - val_accuracy: 0.0345 - val_loss: 3.3677\n",
      "Epoch 93/100\n",
      "\u001b[1m2719/2719\u001b[0m \u001b[32m━━━━━━━━━━━━━━━━━━━━\u001b[0m\u001b[37m\u001b[0m \u001b[1m33s\u001b[0m 12ms/step - accuracy: 0.0346 - loss: 3.3699 - val_accuracy: 0.0345 - val_loss: 3.3691\n",
      "Epoch 94/100\n",
      "\u001b[1m2719/2719\u001b[0m \u001b[32m━━━━━━━━━━━━━━━━━━━━\u001b[0m\u001b[37m\u001b[0m \u001b[1m34s\u001b[0m 12ms/step - accuracy: 0.0352 - loss: 3.3701 - val_accuracy: 0.0345 - val_loss: 3.3669\n",
      "Epoch 95/100\n",
      "\u001b[1m2719/2719\u001b[0m \u001b[32m━━━━━━━━━━━━━━━━━━━━\u001b[0m\u001b[37m\u001b[0m \u001b[1m33s\u001b[0m 12ms/step - accuracy: 0.0354 - loss: 3.3698 - val_accuracy: 0.0345 - val_loss: 3.3742\n",
      "Epoch 96/100\n",
      "\u001b[1m2719/2719\u001b[0m \u001b[32m━━━━━━━━━━━━━━━━━━━━\u001b[0m\u001b[37m\u001b[0m \u001b[1m34s\u001b[0m 12ms/step - accuracy: 0.0352 - loss: 3.3701 - val_accuracy: 0.0345 - val_loss: 3.3691\n",
      "Epoch 97/100\n",
      "\u001b[1m2719/2719\u001b[0m \u001b[32m━━━━━━━━━━━━━━━━━━━━\u001b[0m\u001b[37m\u001b[0m \u001b[1m45s\u001b[0m 16ms/step - accuracy: 0.0333 - loss: 3.3694 - val_accuracy: 0.0345 - val_loss: 3.3751\n",
      "Epoch 98/100\n",
      "\u001b[1m2719/2719\u001b[0m \u001b[32m━━━━━━━━━━━━━━━━━━━━\u001b[0m\u001b[37m\u001b[0m \u001b[1m63s\u001b[0m 23ms/step - accuracy: 0.0332 - loss: 3.3694 - val_accuracy: 0.0345 - val_loss: 3.3696\n",
      "Epoch 99/100\n",
      "\u001b[1m2719/2719\u001b[0m \u001b[32m━━━━━━━━━━━━━━━━━━━━\u001b[0m\u001b[37m\u001b[0m \u001b[1m72s\u001b[0m 27ms/step - accuracy: 0.0346 - loss: 3.3697 - val_accuracy: 0.0345 - val_loss: 3.3724\n",
      "Epoch 100/100\n",
      "\u001b[1m2719/2719\u001b[0m \u001b[32m━━━━━━━━━━━━━━━━━━━━\u001b[0m\u001b[37m\u001b[0m \u001b[1m58s\u001b[0m 18ms/step - accuracy: 0.0350 - loss: 3.3699 - val_accuracy: 0.0345 - val_loss: 3.3694\n"
     ]
    }
   ],
   "source": [
    "history,_ = train_model()"
   ]
  },
  {
   "cell_type": "code",
   "execution_count": 19,
   "metadata": {},
   "outputs": [
    {
     "data": {
      "text/plain": [
       "<Axes: >"
      ]
     },
     "execution_count": 19,
     "metadata": {},
     "output_type": "execute_result"
    },
    {
     "data": {
      "image/png": "[encoded data removed]",
      "text/plain": [
       "<Figure size 640x480 with 1 Axes>"
      ]
     },
     "metadata": {},
     "output_type": "display_data"
    }
   ],
   "source": [
    "pd.DataFrame(history.history)[\"loss\"].plot()\n"
   ]
  },
  {
   "cell_type": "code",
   "execution_count": 20,
   "metadata": {},
   "outputs": [
    {
     "data": {
      "text/plain": [
       "<Axes: >"
      ]
     },
     "execution_count": 20,
     "metadata": {},
     "output_type": "execute_result"
    },
    {
     "data": {
      "image/png": "[encoded data removed]",
      "text/plain": [
       "<Figure size 640x480 with 1 Axes>"
      ]
     },
     "metadata": {},
     "output_type": "display_data"
    }
   ],
   "source": [
    "pd.DataFrame(history.history)[\"accuracy\"].plot()\n"
   ]
  },
  {
   "cell_type": "code",
   "execution_count": 21,
   "metadata": {},
   "outputs": [
    {
     "data": {
      "text/plain": [
       "<Axes: >"
      ]
     },
     "execution_count": 21,
     "metadata": {},
     "output_type": "execute_result"
    },
    {
     "data": {
      "image/png": "[encoded data removed]",
      "text/plain": [
       "<Figure size 640x480 with 1 Axes>"
      ]
     },
     "metadata": {},
     "output_type": "display_data"
    }
   ],
   "source": [
    "pd.DataFrame(history.history)[\"val_loss\"].plot()\n"
   ]
  },
  {
   "cell_type": "code",
   "execution_count": 22,
   "metadata": {},
   "outputs": [
    {
     "data": {
      "text/plain": [
       "<Axes: >"
      ]
     },
     "execution_count": 22,
     "metadata": {},
     "output_type": "execute_result"
    },
    {
     "data": {
      "image/png": "[encoded data removed]",
      "text/plain": [
       "<Figure size 640x480 with 1 Axes>"
      ]
     },
     "metadata": {},
     "output_type": "display_data"
    }
   ],
   "source": [
    "pd.DataFrame(history.history)[\"val_accuracy\"].plot()"
   ]
  },
  {
   "cell_type": "code",
   "execution_count": 40,
   "metadata": {},
   "outputs": [
    {
     "data": {
      "text/plain": [
       "TensorShape([64, 64])"
      ]
     },
     "execution_count": 40,
     "metadata": {},
     "output_type": "execute_result"
    }
   ],
   "source": [
    "test_set = [tf.convert_to_tensor(plt.imread(os.path.join(path[\"test\"],i))) for i in os.listdir(path[\"test\"])]\n",
    "test_set = tf.cast(test_set,dtype=tf.float32)/255.0\n",
    "test_set[0].shape"
   ]
  },
  {
   "cell_type": "code",
   "execution_count": 46,
   "metadata": {},
   "outputs": [
    {
     "name": "stdout",
     "output_type": "stream",
     "text": [
      "\u001b[1m1/1\u001b[0m \u001b[32m━━━━━━━━━━━━━━━━━━━━\u001b[0m\u001b[37m\u001b[0m \u001b[1m0s\u001b[0m 33ms/step\n"
     ]
    },
    {
     "data": {
      "text/plain": [
       "array([[0.03671188, 0.03384092, 0.03508193, 0.03343956, 0.03680263,\n",
       "        0.03504646, 0.03156802, 0.03470829, 0.03428193, 0.03303111,\n",
       "        0.03737196, 0.04041051, 0.03593826, 0.03338731, 0.03470882,\n",
       "        0.0349375 , 0.0374829 , 0.03239075, 0.02931597, 0.03443338,\n",
       "        0.03533169, 0.03185356, 0.03314517, 0.03491673, 0.03505328,\n",
       "        0.0353334 , 0.03311892, 0.03218593, 0.03417118],\n",
       "       [0.03671188, 0.03384092, 0.03508193, 0.03343956, 0.03680263,\n",
       "        0.03504646, 0.03156802, 0.03470829, 0.03428193, 0.03303111,\n",
       "        0.03737196, 0.04041051, 0.03593826, 0.03338731, 0.03470882,\n",
       "        0.0349375 , 0.0374829 , 0.03239075, 0.02931597, 0.03443338,\n",
       "        0.03533169, 0.03185356, 0.03314517, 0.03491673, 0.03505328,\n",
       "        0.0353334 , 0.03311892, 0.03218593, 0.03417118],\n",
       "       [0.03671188, 0.03384092, 0.03508193, 0.03343956, 0.03680263,\n",
       "        0.03504646, 0.03156802, 0.03470829, 0.03428193, 0.03303111,\n",
       "        0.03737196, 0.04041051, 0.03593826, 0.03338731, 0.03470882,\n",
       "        0.0349375 , 0.0374829 , 0.03239075, 0.02931597, 0.03443338,\n",
       "        0.03533169, 0.03185356, 0.03314517, 0.03491673, 0.03505328,\n",
       "        0.0353334 , 0.03311892, 0.03218593, 0.03417118],\n",
       "       [0.03671188, 0.03384092, 0.03508193, 0.03343956, 0.03680263,\n",
       "        0.03504646, 0.03156802, 0.03470829, 0.03428193, 0.03303111,\n",
       "        0.03737196, 0.04041051, 0.03593826, 0.03338731, 0.03470882,\n",
       "        0.0349375 , 0.0374829 , 0.03239075, 0.02931597, 0.03443338,\n",
       "        0.03533169, 0.03185356, 0.03314517, 0.03491673, 0.03505328,\n",
       "        0.0353334 , 0.03311892, 0.03218593, 0.03417118],\n",
       "       [0.03671188, 0.03384092, 0.03508193, 0.03343956, 0.03680263,\n",
       "        0.03504646, 0.03156802, 0.03470829, 0.03428193, 0.03303111,\n",
       "        0.03737196, 0.04041051, 0.03593826, 0.03338731, 0.03470882,\n",
       "        0.0349375 , 0.0374829 , 0.03239075, 0.02931597, 0.03443338,\n",
       "        0.03533169, 0.03185356, 0.03314517, 0.03491673, 0.03505328,\n",
       "        0.0353334 , 0.03311892, 0.03218593, 0.03417118],\n",
       "       [0.03671188, 0.03384092, 0.03508193, 0.03343956, 0.03680263,\n",
       "        0.03504646, 0.03156802, 0.03470829, 0.03428193, 0.03303111,\n",
       "        0.03737196, 0.04041051, 0.03593826, 0.03338731, 0.03470882,\n",
       "        0.0349375 , 0.0374829 , 0.03239075, 0.02931597, 0.03443338,\n",
       "        0.03533169, 0.03185356, 0.03314517, 0.03491673, 0.03505328,\n",
       "        0.0353334 , 0.03311892, 0.03218593, 0.03417118],\n",
       "       [0.03671188, 0.03384092, 0.03508193, 0.03343956, 0.03680263,\n",
       "        0.03504646, 0.03156802, 0.03470829, 0.03428193, 0.03303111,\n",
       "        0.03737196, 0.04041051, 0.03593826, 0.03338731, 0.03470882,\n",
       "        0.0349375 , 0.0374829 , 0.03239075, 0.02931597, 0.03443338,\n",
       "        0.03533169, 0.03185356, 0.03314517, 0.03491673, 0.03505328,\n",
       "        0.0353334 , 0.03311892, 0.03218593, 0.03417118],\n",
       "       [0.03671188, 0.03384092, 0.03508193, 0.03343956, 0.03680263,\n",
       "        0.03504646, 0.03156802, 0.03470829, 0.03428193, 0.03303111,\n",
       "        0.03737196, 0.04041051, 0.03593826, 0.03338731, 0.03470882,\n",
       "        0.0349375 , 0.0374829 , 0.03239075, 0.02931597, 0.03443338,\n",
       "        0.03533169, 0.03185356, 0.03314517, 0.03491673, 0.03505328,\n",
       "        0.0353334 , 0.03311892, 0.03218593, 0.03417118],\n",
       "       [0.03671188, 0.03384092, 0.03508193, 0.03343956, 0.03680263,\n",
       "        0.03504646, 0.03156802, 0.03470829, 0.03428193, 0.03303111,\n",
       "        0.03737196, 0.04041051, 0.03593826, 0.03338731, 0.03470882,\n",
       "        0.0349375 , 0.0374829 , 0.03239075, 0.02931597, 0.03443338,\n",
       "        0.03533169, 0.03185356, 0.03314517, 0.03491673, 0.03505328,\n",
       "        0.0353334 , 0.03311892, 0.03218593, 0.03417118],\n",
       "       [0.03671188, 0.03384092, 0.03508193, 0.03343956, 0.03680263,\n",
       "        0.03504646, 0.03156802, 0.03470829, 0.03428193, 0.03303111,\n",
       "        0.03737196, 0.04041051, 0.03593826, 0.03338731, 0.03470882,\n",
       "        0.0349375 , 0.0374829 , 0.03239075, 0.02931597, 0.03443338,\n",
       "        0.03533169, 0.03185356, 0.03314517, 0.03491673, 0.03505328,\n",
       "        0.0353334 , 0.03311892, 0.03218593, 0.03417118],\n",
       "       [0.03671188, 0.03384092, 0.03508193, 0.03343956, 0.03680263,\n",
       "        0.03504646, 0.03156802, 0.03470829, 0.03428193, 0.03303111,\n",
       "        0.03737196, 0.04041051, 0.03593826, 0.03338731, 0.03470882,\n",
       "        0.0349375 , 0.0374829 , 0.03239075, 0.02931597, 0.03443338,\n",
       "        0.03533169, 0.03185356, 0.03314517, 0.03491673, 0.03505328,\n",
       "        0.0353334 , 0.03311892, 0.03218593, 0.03417118],\n",
       "       [0.03671188, 0.03384092, 0.03508193, 0.03343956, 0.03680263,\n",
       "        0.03504646, 0.03156802, 0.03470829, 0.03428193, 0.03303111,\n",
       "        0.03737196, 0.04041051, 0.03593826, 0.03338731, 0.03470882,\n",
       "        0.0349375 , 0.0374829 , 0.03239075, 0.02931597, 0.03443338,\n",
       "        0.03533169, 0.03185356, 0.03314517, 0.03491673, 0.03505328,\n",
       "        0.0353334 , 0.03311892, 0.03218593, 0.03417118],\n",
       "       [0.03671188, 0.03384092, 0.03508193, 0.03343956, 0.03680263,\n",
       "        0.03504646, 0.03156802, 0.03470829, 0.03428193, 0.03303111,\n",
       "        0.03737196, 0.04041051, 0.03593826, 0.03338731, 0.03470882,\n",
       "        0.0349375 , 0.0374829 , 0.03239075, 0.02931597, 0.03443338,\n",
       "        0.03533169, 0.03185356, 0.03314517, 0.03491673, 0.03505328,\n",
       "        0.0353334 , 0.03311892, 0.03218593, 0.03417118],\n",
       "       [0.03671188, 0.03384092, 0.03508193, 0.03343956, 0.03680263,\n",
       "        0.03504646, 0.03156802, 0.03470829, 0.03428193, 0.03303111,\n",
       "        0.03737196, 0.04041051, 0.03593826, 0.03338731, 0.03470882,\n",
       "        0.0349375 , 0.0374829 , 0.03239075, 0.02931597, 0.03443338,\n",
       "        0.03533169, 0.03185356, 0.03314517, 0.03491673, 0.03505328,\n",
       "        0.0353334 , 0.03311892, 0.03218593, 0.03417118],\n",
       "       [0.03671188, 0.03384092, 0.03508193, 0.03343956, 0.03680263,\n",
       "        0.03504646, 0.03156802, 0.03470829, 0.03428193, 0.03303111,\n",
       "        0.03737196, 0.04041051, 0.03593826, 0.03338731, 0.03470882,\n",
       "        0.0349375 , 0.0374829 , 0.03239075, 0.02931597, 0.03443338,\n",
       "        0.03533169, 0.03185356, 0.03314517, 0.03491673, 0.03505328,\n",
       "        0.0353334 , 0.03311892, 0.03218593, 0.03417118],\n",
       "       [0.03671188, 0.03384092, 0.03508193, 0.03343956, 0.03680263,\n",
       "        0.03504646, 0.03156802, 0.03470829, 0.03428193, 0.03303111,\n",
       "        0.03737196, 0.04041051, 0.03593826, 0.03338731, 0.03470882,\n",
       "        0.0349375 , 0.0374829 , 0.03239075, 0.02931597, 0.03443338,\n",
       "        0.03533169, 0.03185356, 0.03314517, 0.03491673, 0.03505328,\n",
       "        0.0353334 , 0.03311892, 0.03218593, 0.03417118],\n",
       "       [0.03671188, 0.03384092, 0.03508193, 0.03343956, 0.03680263,\n",
       "        0.03504646, 0.03156802, 0.03470829, 0.03428193, 0.03303111,\n",
       "        0.03737196, 0.04041051, 0.03593826, 0.03338731, 0.03470882,\n",
       "        0.0349375 , 0.0374829 , 0.03239075, 0.02931597, 0.03443338,\n",
       "        0.03533169, 0.03185356, 0.03314517, 0.03491673, 0.03505328,\n",
       "        0.0353334 , 0.03311892, 0.03218593, 0.03417118],\n",
       "       [0.03671188, 0.03384092, 0.03508193, 0.03343956, 0.03680263,\n",
       "        0.03504646, 0.03156802, 0.03470829, 0.03428193, 0.03303111,\n",
       "        0.03737196, 0.04041051, 0.03593826, 0.03338731, 0.03470882,\n",
       "        0.0349375 , 0.0374829 , 0.03239075, 0.02931597, 0.03443338,\n",
       "        0.03533169, 0.03185356, 0.03314517, 0.03491673, 0.03505328,\n",
       "        0.0353334 , 0.03311892, 0.03218593, 0.03417118],\n",
       "       [0.03671188, 0.03384092, 0.03508193, 0.03343956, 0.03680263,\n",
       "        0.03504646, 0.03156802, 0.03470829, 0.03428193, 0.03303111,\n",
       "        0.03737196, 0.04041051, 0.03593826, 0.03338731, 0.03470882,\n",
       "        0.0349375 , 0.0374829 , 0.03239075, 0.02931597, 0.03443338,\n",
       "        0.03533169, 0.03185356, 0.03314517, 0.03491673, 0.03505328,\n",
       "        0.0353334 , 0.03311892, 0.03218593, 0.03417118],\n",
       "       [0.03671188, 0.03384092, 0.03508193, 0.03343956, 0.03680263,\n",
       "        0.03504646, 0.03156802, 0.03470829, 0.03428193, 0.03303111,\n",
       "        0.03737196, 0.04041051, 0.03593826, 0.03338731, 0.03470882,\n",
       "        0.0349375 , 0.0374829 , 0.03239075, 0.02931597, 0.03443338,\n",
       "        0.03533169, 0.03185356, 0.03314517, 0.03491673, 0.03505328,\n",
       "        0.0353334 , 0.03311892, 0.03218593, 0.03417118],\n",
       "       [0.03671188, 0.03384092, 0.03508193, 0.03343956, 0.03680263,\n",
       "        0.03504646, 0.03156802, 0.03470829, 0.03428193, 0.03303111,\n",
       "        0.03737196, 0.04041051, 0.03593826, 0.03338731, 0.03470882,\n",
       "        0.0349375 , 0.0374829 , 0.03239075, 0.02931597, 0.03443338,\n",
       "        0.03533169, 0.03185356, 0.03314517, 0.03491673, 0.03505328,\n",
       "        0.0353334 , 0.03311892, 0.03218593, 0.03417118],\n",
       "       [0.03671188, 0.03384092, 0.03508193, 0.03343956, 0.03680263,\n",
       "        0.03504646, 0.03156802, 0.03470829, 0.03428193, 0.03303111,\n",
       "        0.03737196, 0.04041051, 0.03593826, 0.03338731, 0.03470882,\n",
       "        0.0349375 , 0.0374829 , 0.03239075, 0.02931597, 0.03443338,\n",
       "        0.03533169, 0.03185356, 0.03314517, 0.03491673, 0.03505328,\n",
       "        0.0353334 , 0.03311892, 0.03218593, 0.03417118],\n",
       "       [0.03671188, 0.03384092, 0.03508193, 0.03343956, 0.03680263,\n",
       "        0.03504646, 0.03156802, 0.03470829, 0.03428193, 0.03303111,\n",
       "        0.03737196, 0.04041051, 0.03593826, 0.03338731, 0.03470882,\n",
       "        0.0349375 , 0.0374829 , 0.03239075, 0.02931597, 0.03443338,\n",
       "        0.03533169, 0.03185356, 0.03314517, 0.03491673, 0.03505328,\n",
       "        0.0353334 , 0.03311892, 0.03218593, 0.03417118],\n",
       "       [0.03671188, 0.03384092, 0.03508193, 0.03343956, 0.03680263,\n",
       "        0.03504646, 0.03156802, 0.03470829, 0.03428193, 0.03303111,\n",
       "        0.03737196, 0.04041051, 0.03593826, 0.03338731, 0.03470882,\n",
       "        0.0349375 , 0.0374829 , 0.03239075, 0.02931597, 0.03443338,\n",
       "        0.03533169, 0.03185356, 0.03314517, 0.03491673, 0.03505328,\n",
       "        0.0353334 , 0.03311892, 0.03218593, 0.03417118],\n",
       "       [0.03671188, 0.03384092, 0.03508193, 0.03343956, 0.03680263,\n",
       "        0.03504646, 0.03156802, 0.03470829, 0.03428193, 0.03303111,\n",
       "        0.03737196, 0.04041051, 0.03593826, 0.03338731, 0.03470882,\n",
       "        0.0349375 , 0.0374829 , 0.03239075, 0.02931597, 0.03443338,\n",
       "        0.03533169, 0.03185356, 0.03314517, 0.03491673, 0.03505328,\n",
       "        0.0353334 , 0.03311892, 0.03218593, 0.03417118],\n",
       "       [0.03671188, 0.03384092, 0.03508193, 0.03343956, 0.03680263,\n",
       "        0.03504646, 0.03156802, 0.03470829, 0.03428193, 0.03303111,\n",
       "        0.03737196, 0.04041051, 0.03593826, 0.03338731, 0.03470882,\n",
       "        0.0349375 , 0.0374829 , 0.03239075, 0.02931597, 0.03443338,\n",
       "        0.03533169, 0.03185356, 0.03314517, 0.03491673, 0.03505328,\n",
       "        0.0353334 , 0.03311892, 0.03218593, 0.03417118],\n",
       "       [0.03671188, 0.03384092, 0.03508193, 0.03343956, 0.03680263,\n",
       "        0.03504646, 0.03156802, 0.03470829, 0.03428193, 0.03303111,\n",
       "        0.03737196, 0.04041051, 0.03593826, 0.03338731, 0.03470882,\n",
       "        0.0349375 , 0.0374829 , 0.03239075, 0.02931597, 0.03443338,\n",
       "        0.03533169, 0.03185356, 0.03314517, 0.03491673, 0.03505328,\n",
       "        0.0353334 , 0.03311892, 0.03218593, 0.03417118],\n",
       "       [0.03671188, 0.03384092, 0.03508193, 0.03343956, 0.03680263,\n",
       "        0.03504646, 0.03156802, 0.03470829, 0.03428193, 0.03303111,\n",
       "        0.03737196, 0.04041051, 0.03593826, 0.03338731, 0.03470882,\n",
       "        0.0349375 , 0.0374829 , 0.03239075, 0.02931597, 0.03443338,\n",
       "        0.03533169, 0.03185356, 0.03314517, 0.03491673, 0.03505328,\n",
       "        0.0353334 , 0.03311892, 0.03218593, 0.03417118],\n",
       "       [0.03671188, 0.03384092, 0.03508193, 0.03343956, 0.03680263,\n",
       "        0.03504646, 0.03156802, 0.03470829, 0.03428193, 0.03303111,\n",
       "        0.03737196, 0.04041051, 0.03593826, 0.03338731, 0.03470882,\n",
       "        0.0349375 , 0.0374829 , 0.03239075, 0.02931597, 0.03443338,\n",
       "        0.03533169, 0.03185356, 0.03314517, 0.03491673, 0.03505328,\n",
       "        0.0353334 , 0.03311892, 0.03218593, 0.03417118]], dtype=float32)"
      ]
     },
     "execution_count": 46,
     "metadata": {},
     "output_type": "execute_result"
    }
   ],
   "source": [
    "pred = _.predict(test_set)\n",
    "pred"
   ]
  }
 ],
 "metadata": {
  "kernelspec": {
   "display_name": "venv",
   "language": "python",
   "name": "python3"
  },
  "language_info": {
   "codemirror_mode": {
    "name": "ipython",
    "version": 3
   },
   "file_extension": ".py",
   "mimetype": "text/x-python",
   "name": "python",
   "nbconvert_exporter": "python",
   "pygments_lexer": "ipython3",
   "version": "3.9.12"
  }
 },
 "nbformat": 4,
 "nbformat_minor": 2
}
